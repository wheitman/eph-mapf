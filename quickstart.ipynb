{
 "cells": [
  {
   "cell_type": "markdown",
   "metadata": {},
   "source": [
    "# EPH Quickstart"
   ]
  },
  {
   "cell_type": "markdown",
   "metadata": {},
   "source": [
    "<a href=\"https://colab.research.google.com/github/ai4co/eph-mapf/blob/main/quickstart.ipynb\"><img src=\"https://colab.research.google.com/assets/colab-badge.svg\" alt=\"Open In Colab\"></a>\n",
    "\n",
    "If you are running in Google Colab, you can install the required packages by uncommenting and running the following cell:"
   ]
  },
  {
   "cell_type": "code",
   "execution_count": 1,
   "metadata": {},
   "outputs": [],
   "source": [
    "# !git clone https://github.com/ai4co/eph-mapf.git && cd eph-mapf && pip install -e '.[all]'\n",
    "# !cp -r eph-mapf/* . # copy everything in Colab root\n",
    "# !apt install ffmpeg # install for video"
   ]
  },
  {
   "cell_type": "code",
   "execution_count": 2,
   "metadata": {},
   "outputs": [
    {
     "name": "stdout",
     "output_type": "stream",
     "text": [
      "Setting random seed to 42\n"
     ]
    }
   ],
   "source": [
    "%load_ext autoreload\n",
    "%autoreload 2\n",
    "\n",
    "from test import test_model\n",
    "from src.config import config\n",
    "from src.data.generate_data import generate_movingai\n",
    "\n",
    "''' Ensemble (list of tuples made of 5 elements)\n",
    "use_stepinfer_method, astar_type, active_agent_radius, use_aep, aep_astar_type\n",
    "- use_stepinfer_method: True or False\n",
    "- astar_type: 1: All agents are treated as obstacles, 2: Treat Finished agents as obstacles, 3: Not regarding any agent as obstacles, None: Not use astar\n",
    "- active_agent_radius: only if astar_type is not None. The radius of the active agent to be considered for astar. This parameter is only for hybrid guidance, NOT for AEP.\n",
    "- use_aep: True or False\n",
    "- aep_astar_type: 1: All agents are treated as obstacles, 2: Treat Finished agents as obstacles, 3: Not regarding any agent as obstacles, None: Not use astar\n",
    "'''\n",
    "\n",
    "config.ensemble = [\n",
    "    (False, None, None, False,None),]\n",
    "\n",
    "config.test_folder = \"./test_set\"\n",
    "config.save_map_config = True\n",
    "config.save_positions = True\n",
    "config.data_mode = \"movingai\"\n",
    "\n",
    "# config.action_dim=2\n",
    "config.test_env_settings = (\n",
    "                    (\"den312d\", 4),\n",
    "                    (\"den312d\", 8),\n",
    "                    # (\"den312d\", 16),\n",
    "                    # (\"den312d\", 32),\n",
    "                    # (\"den312d\", 64),\n",
    "                    (\"warehouse\", 4),\n",
    "                    (\"warehouse\", 8),\n",
    "                    # (\"warehouse\", 16),\n",
    "                    # (\"warehouse\", 32),\n",
    "                    # (\"warehouse\", 64),\n",
    "                    ) "
   ]
  },
  {
   "cell_type": "code",
   "execution_count": 3,
   "metadata": {},
   "outputs": [
    {
     "name": "stdout",
     "output_type": "stream",
     "text": [
      "Generating instances for den312d with 4 agents ...\n"
     ]
    },
    {
     "name": "stderr",
     "output_type": "stream",
     "text": [
      "100%|██████████| 20/20 [00:00<00:00, 333.70it/s]\n"
     ]
    },
    {
     "name": "stdout",
     "output_type": "stream",
     "text": [
      "Generating instances for den312d with 8 agents ...\n"
     ]
    },
    {
     "name": "stderr",
     "output_type": "stream",
     "text": [
      "100%|██████████| 20/20 [00:00<00:00, 258.55it/s]\n"
     ]
    },
    {
     "name": "stdout",
     "output_type": "stream",
     "text": [
      "Generating instances for warehouse with 4 agents ...\n"
     ]
    },
    {
     "name": "stderr",
     "output_type": "stream",
     "text": [
      "100%|██████████| 20/20 [00:00<00:00, 148.36it/s]\n"
     ]
    },
    {
     "name": "stdout",
     "output_type": "stream",
     "text": [
      "Generating instances for warehouse with 8 agents ...\n"
     ]
    },
    {
     "name": "stderr",
     "output_type": "stream",
     "text": [
      "100%|██████████| 20/20 [00:00<00:00, 137.94it/s]\n"
     ]
    }
   ],
   "source": [
    "generate_movingai(20, config.test_env_settings)"
   ]
  },
  {
   "cell_type": "code",
   "execution_count": 4,
   "metadata": {},
   "outputs": [
    {
     "data": {
      "text/html": [
       "<pre style=\"white-space:pre;overflow-x:auto;line-height:normal;font-family:Menlo,'DejaVu Sans Mono',consolas,'Courier New',monospace\">action_dim: <span style=\"color: #008080; text-decoration-color: #008080; font-weight: bold\">5</span>\n",
       "active_agent_radius: <span style=\"color: #008080; text-decoration-color: #008080; font-weight: bold\">4</span>\n",
       "actor_update_steps: <span style=\"color: #008080; text-decoration-color: #008080; font-weight: bold\">200</span>\n",
       "aep_astar_type: <span style=\"color: #008080; text-decoration-color: #008080; font-weight: bold\">2</span>\n",
       "aep_distance_threshold: null\n",
       "aep_use_q_value_only: false\n",
       "astar_type: <span style=\"color: #008080; text-decoration-color: #008080; font-weight: bold\">2</span>\n",
       "batch_size: <span style=\"color: #008080; text-decoration-color: #008080; font-weight: bold\">128</span>\n",
       "buffer_capacity: <span style=\"color: #008080; text-decoration-color: #008080; font-weight: bold\">262144</span>\n",
       "burn_in_steps: <span style=\"color: #008080; text-decoration-color: #008080; font-weight: bold\">20</span>\n",
       "chunk_capacity: <span style=\"color: #008080; text-decoration-color: #008080; font-weight: bold\">64</span>\n",
       "cl_history_size: <span style=\"color: #008080; text-decoration-color: #008080; font-weight: bold\">100</span>\n",
       "cnn_channel: <span style=\"color: #008080; text-decoration-color: #008080; font-weight: bold\">128</span>\n",
       "density: <span style=\"color: #008080; text-decoration-color: #008080; font-weight: bold\">0.3</span>\n",
       "ensemble:\n",
       "- - false\n",
       "  - null\n",
       "  - null\n",
       "  - false\n",
       "  - null\n",
       "forward_steps: <span style=\"color: #008080; text-decoration-color: #008080; font-weight: bold\">2</span>\n",
       "gamma: <span style=\"color: #008080; text-decoration-color: #008080; font-weight: bold\">0.99</span>\n",
       "grad_norm_dqn: <span style=\"color: #008080; text-decoration-color: #008080; font-weight: bold\">40</span>\n",
       "hidden_dim: <span style=\"color: #008080; text-decoration-color: #008080; font-weight: bold\">256</span>\n",
       "init_env_settings:\n",
       "- <span style=\"color: #008080; text-decoration-color: #008080; font-weight: bold\">1</span>\n",
       "- <span style=\"color: #008080; text-decoration-color: #008080; font-weight: bold\">10</span>\n",
       "learning_starts: <span style=\"color: #008080; text-decoration-color: #008080; font-weight: bold\">50000</span>\n",
       "log_interval: <span style=\"color: #008080; text-decoration-color: #008080; font-weight: bold\">10</span>\n",
       "lr: <span style=\"color: #008080; text-decoration-color: #008080; font-weight: bold\">0.0002</span>\n",
       "lr_scheduler_gamma: <span style=\"color: #008080; text-decoration-color: #008080; font-weight: bold\">0.5</span>\n",
       "lr_scheduler_milestones:\n",
       "- <span style=\"color: #008080; text-decoration-color: #008080; font-weight: bold\">40000</span>\n",
       "- <span style=\"color: #008080; text-decoration-color: #008080; font-weight: bold\">80000</span>\n",
       "max_comm_agents: <span style=\"color: #008080; text-decoration-color: #008080; font-weight: bold\">3</span>\n",
       "max_episode_length: <span style=\"color: #008080; text-decoration-color: #008080; font-weight: bold\">256</span>\n",
       "max_episode_length_80: <span style=\"color: #008080; text-decoration-color: #008080; font-weight: bold\">386</span>\n",
       "max_episode_warehouse: <span style=\"color: #008080; text-decoration-color: #008080; font-weight: bold\">512</span>\n",
       "max_map_lenght: <span style=\"color: #008080; text-decoration-color: #008080; font-weight: bold\">40</span>\n",
       "max_num_agents: <span style=\"color: #008080; text-decoration-color: #008080; font-weight: bold\">16</span>\n",
       "model_target: src.models.eph.Network\n",
       "name: eph\n",
       "num_actors: <span style=\"color: #008080; text-decoration-color: #008080; font-weight: bold\">16</span>\n",
       "num_test_cases: <span style=\"color: #008080; text-decoration-color: #008080; font-weight: bold\">100</span>\n",
       "obs_radius: <span style=\"color: #008080; text-decoration-color: #008080; font-weight: bold\">4</span>\n",
       "obs_shape:\n",
       "- <span style=\"color: #008080; text-decoration-color: #008080; font-weight: bold\">6</span>\n",
       "- <span style=\"color: #008080; text-decoration-color: #008080; font-weight: bold\">9</span>\n",
       "- <span style=\"color: #008080; text-decoration-color: #008080; font-weight: bold\">9</span>\n",
       "pass_rate: <span style=\"color: #008080; text-decoration-color: #008080; font-weight: bold\">0.9</span>\n",
       "prioritized_replay_alpha: <span style=\"color: #008080; text-decoration-color: #008080; font-weight: bold\">0.6</span>\n",
       "prioritized_replay_beta: <span style=\"color: #008080; text-decoration-color: #008080; font-weight: bold\">0.4</span>\n",
       "project: FinalTest\n",
       "reward_fn:\n",
       "  move: <span style=\"color: #008080; text-decoration-color: #008080; font-weight: bold\">-0.075</span>\n",
       "  stay_on_goal: <span style=\"color: #008080; text-decoration-color: #008080; font-weight: bold\">0</span>\n",
       "  stay_off_goal: <span style=\"color: #008080; text-decoration-color: #008080; font-weight: bold\">-0.075</span>\n",
       "  collision: <span style=\"color: #008080; text-decoration-color: #008080; font-weight: bold\">-0.5</span>\n",
       "  finish: <span style=\"color: #008080; text-decoration-color: #008080; font-weight: bold\">3</span>\n",
       "run_id: <span style=\"color: #008080; text-decoration-color: #008080; font-weight: bold\">20240420</span>-<span style=\"color: #008080; text-decoration-color: #008080; font-weight: bold\">141746</span>\n",
       "save_interval: <span style=\"color: #008080; text-decoration-color: #008080; font-weight: bold\">1000</span>\n",
       "save_map_config: true\n",
       "save_path: .<span style=\"color: #800080; text-decoration-color: #800080\">/saved_models/</span><span style=\"color: #ff00ff; text-decoration-color: #ff00ff\">eph_net</span>\n",
       "save_positions: true\n",
       "selective_comm: true\n",
       "target_network_update_freq: <span style=\"color: #008080; text-decoration-color: #008080; font-weight: bold\">1750</span>\n",
       "test_data_mode: normal\n",
       "test_env_settings:\n",
       "- - den312d\n",
       "  - <span style=\"color: #008080; text-decoration-color: #008080; font-weight: bold\">4</span>\n",
       "- - den312d\n",
       "  - <span style=\"color: #008080; text-decoration-color: #008080; font-weight: bold\">8</span>\n",
       "- - warehouse\n",
       "  - <span style=\"color: #008080; text-decoration-color: #008080; font-weight: bold\">4</span>\n",
       "- - warehouse\n",
       "  - <span style=\"color: #008080; text-decoration-color: #008080; font-weight: bold\">8</span>\n",
       "test_folder: .<span style=\"color: #800080; text-decoration-color: #800080\">/</span><span style=\"color: #ff00ff; text-decoration-color: #ff00ff\">test_set</span>\n",
       "test_seed: <span style=\"color: #008080; text-decoration-color: #008080; font-weight: bold\">0</span>\n",
       "test_timeout: <span style=\"color: #008080; text-decoration-color: #008080; font-weight: bold\">300</span>\n",
       "training_steps: <span style=\"color: #008080; text-decoration-color: #008080; font-weight: bold\">150000</span>\n",
       "use_aep: true\n",
       "use_stepinfer_method: true\n",
       "use_validation: true\n",
       "use_wandb: false\n",
       "use_wandb_test: false\n",
       "val_device: cpu\n",
       "val_interval: <span style=\"color: #008080; text-decoration-color: #008080; font-weight: bold\">1000</span>\n",
       "val_pool_parallel_cores: <span style=\"color: #008080; text-decoration-color: #008080; font-weight: bold\">16</span>\n",
       "val_test_set:\n",
       "- - <span style=\"color: #008080; text-decoration-color: #008080; font-weight: bold\">40</span>\n",
       "  - <span style=\"color: #008080; text-decoration-color: #008080; font-weight: bold\">16</span>\n",
       "  - <span style=\"color: #008080; text-decoration-color: #008080; font-weight: bold\">0.3</span>\n",
       "- - <span style=\"color: #008080; text-decoration-color: #008080; font-weight: bold\">40</span>\n",
       "  - <span style=\"color: #008080; text-decoration-color: #008080; font-weight: bold\">32</span>\n",
       "  - <span style=\"color: #008080; text-decoration-color: #008080; font-weight: bold\">0.3</span>\n",
       "- - <span style=\"color: #008080; text-decoration-color: #008080; font-weight: bold\">40</span>\n",
       "  - <span style=\"color: #008080; text-decoration-color: #008080; font-weight: bold\">64</span>\n",
       "  - <span style=\"color: #008080; text-decoration-color: #008080; font-weight: bold\">0.3</span>\n",
       "weight_decay: <span style=\"color: #008080; text-decoration-color: #008080; font-weight: bold\">0</span>\n",
       "data_mode: movingai\n",
       "\n",
       "</pre>\n"
      ],
      "text/plain": [
       "action_dim: \u001b[1;36m5\u001b[0m\n",
       "active_agent_radius: \u001b[1;36m4\u001b[0m\n",
       "actor_update_steps: \u001b[1;36m200\u001b[0m\n",
       "aep_astar_type: \u001b[1;36m2\u001b[0m\n",
       "aep_distance_threshold: null\n",
       "aep_use_q_value_only: false\n",
       "astar_type: \u001b[1;36m2\u001b[0m\n",
       "batch_size: \u001b[1;36m128\u001b[0m\n",
       "buffer_capacity: \u001b[1;36m262144\u001b[0m\n",
       "burn_in_steps: \u001b[1;36m20\u001b[0m\n",
       "chunk_capacity: \u001b[1;36m64\u001b[0m\n",
       "cl_history_size: \u001b[1;36m100\u001b[0m\n",
       "cnn_channel: \u001b[1;36m128\u001b[0m\n",
       "density: \u001b[1;36m0.3\u001b[0m\n",
       "ensemble:\n",
       "- - false\n",
       "  - null\n",
       "  - null\n",
       "  - false\n",
       "  - null\n",
       "forward_steps: \u001b[1;36m2\u001b[0m\n",
       "gamma: \u001b[1;36m0.99\u001b[0m\n",
       "grad_norm_dqn: \u001b[1;36m40\u001b[0m\n",
       "hidden_dim: \u001b[1;36m256\u001b[0m\n",
       "init_env_settings:\n",
       "- \u001b[1;36m1\u001b[0m\n",
       "- \u001b[1;36m10\u001b[0m\n",
       "learning_starts: \u001b[1;36m50000\u001b[0m\n",
       "log_interval: \u001b[1;36m10\u001b[0m\n",
       "lr: \u001b[1;36m0.0002\u001b[0m\n",
       "lr_scheduler_gamma: \u001b[1;36m0.5\u001b[0m\n",
       "lr_scheduler_milestones:\n",
       "- \u001b[1;36m40000\u001b[0m\n",
       "- \u001b[1;36m80000\u001b[0m\n",
       "max_comm_agents: \u001b[1;36m3\u001b[0m\n",
       "max_episode_length: \u001b[1;36m256\u001b[0m\n",
       "max_episode_length_80: \u001b[1;36m386\u001b[0m\n",
       "max_episode_warehouse: \u001b[1;36m512\u001b[0m\n",
       "max_map_lenght: \u001b[1;36m40\u001b[0m\n",
       "max_num_agents: \u001b[1;36m16\u001b[0m\n",
       "model_target: src.models.eph.Network\n",
       "name: eph\n",
       "num_actors: \u001b[1;36m16\u001b[0m\n",
       "num_test_cases: \u001b[1;36m100\u001b[0m\n",
       "obs_radius: \u001b[1;36m4\u001b[0m\n",
       "obs_shape:\n",
       "- \u001b[1;36m6\u001b[0m\n",
       "- \u001b[1;36m9\u001b[0m\n",
       "- \u001b[1;36m9\u001b[0m\n",
       "pass_rate: \u001b[1;36m0.9\u001b[0m\n",
       "prioritized_replay_alpha: \u001b[1;36m0.6\u001b[0m\n",
       "prioritized_replay_beta: \u001b[1;36m0.4\u001b[0m\n",
       "project: FinalTest\n",
       "reward_fn:\n",
       "  move: \u001b[1;36m-0.075\u001b[0m\n",
       "  stay_on_goal: \u001b[1;36m0\u001b[0m\n",
       "  stay_off_goal: \u001b[1;36m-0.075\u001b[0m\n",
       "  collision: \u001b[1;36m-0.5\u001b[0m\n",
       "  finish: \u001b[1;36m3\u001b[0m\n",
       "run_id: \u001b[1;36m20240420\u001b[0m-\u001b[1;36m141746\u001b[0m\n",
       "save_interval: \u001b[1;36m1000\u001b[0m\n",
       "save_map_config: true\n",
       "save_path: .\u001b[35m/saved_models/\u001b[0m\u001b[95meph_net\u001b[0m\n",
       "save_positions: true\n",
       "selective_comm: true\n",
       "target_network_update_freq: \u001b[1;36m1750\u001b[0m\n",
       "test_data_mode: normal\n",
       "test_env_settings:\n",
       "- - den312d\n",
       "  - \u001b[1;36m4\u001b[0m\n",
       "- - den312d\n",
       "  - \u001b[1;36m8\u001b[0m\n",
       "- - warehouse\n",
       "  - \u001b[1;36m4\u001b[0m\n",
       "- - warehouse\n",
       "  - \u001b[1;36m8\u001b[0m\n",
       "test_folder: .\u001b[35m/\u001b[0m\u001b[95mtest_set\u001b[0m\n",
       "test_seed: \u001b[1;36m0\u001b[0m\n",
       "test_timeout: \u001b[1;36m300\u001b[0m\n",
       "training_steps: \u001b[1;36m150000\u001b[0m\n",
       "use_aep: true\n",
       "use_stepinfer_method: true\n",
       "use_validation: true\n",
       "use_wandb: false\n",
       "use_wandb_test: false\n",
       "val_device: cpu\n",
       "val_interval: \u001b[1;36m1000\u001b[0m\n",
       "val_pool_parallel_cores: \u001b[1;36m16\u001b[0m\n",
       "val_test_set:\n",
       "- - \u001b[1;36m40\u001b[0m\n",
       "  - \u001b[1;36m16\u001b[0m\n",
       "  - \u001b[1;36m0.3\u001b[0m\n",
       "- - \u001b[1;36m40\u001b[0m\n",
       "  - \u001b[1;36m32\u001b[0m\n",
       "  - \u001b[1;36m0.3\u001b[0m\n",
       "- - \u001b[1;36m40\u001b[0m\n",
       "  - \u001b[1;36m64\u001b[0m\n",
       "  - \u001b[1;36m0.3\u001b[0m\n",
       "weight_decay: \u001b[1;36m0\u001b[0m\n",
       "data_mode: movingai\n",
       "\n"
      ]
     },
     "metadata": {},
     "output_type": "display_data"
    }
   ],
   "source": [
    "import rich\n",
    "from omegaconf import OmegaConf\n",
    "\n",
    "rich.print(OmegaConf.to_yaml(config))\n"
   ]
  },
  {
   "cell_type": "code",
   "execution_count": 5,
   "metadata": {},
   "outputs": [
    {
     "name": "stdout",
     "output_type": "stream",
     "text": [
      "\n",
      "----------test model eph@65000----------\n",
      "test set: den312d 4 agents\n"
     ]
    },
    {
     "name": "stderr",
     "output_type": "stream",
     "text": [
      "100%|██████████| 20/20 [00:02<00:00,  7.32it/s]\n"
     ]
    },
    {
     "name": "stdout",
     "output_type": "stream",
     "text": [
      "success rate: 100.00%\n",
      "average step: 80.1\n",
      "communication times: 2.55\n",
      "average arrived agents : 4.0 \n",
      "Time taken for test set:  2.74\n",
      "Saving results in ./results/den312d_4agents/eph_65000.pkl\n",
      "test set: den312d 8 agents\n"
     ]
    },
    {
     "name": "stderr",
     "output_type": "stream",
     "text": [
      "100%|██████████| 20/20 [00:03<00:00,  5.55it/s]\n"
     ]
    },
    {
     "name": "stdout",
     "output_type": "stream",
     "text": [
      "success rate: 100.00%\n",
      "average step: 96.3\n",
      "communication times: 11.8\n",
      "average arrived agents : 8.0 \n",
      "Time taken for test set:  3.61\n",
      "Saving results in ./results/den312d_8agents/eph_65000.pkl\n",
      "test set: warehouse 4 agents\n"
     ]
    },
    {
     "name": "stderr",
     "output_type": "stream",
     "text": [
      "100%|██████████| 20/20 [00:03<00:00,  6.28it/s]\n"
     ]
    },
    {
     "name": "stdout",
     "output_type": "stream",
     "text": [
      "success rate: 100.00%\n",
      "average step: 128.0\n",
      "communication times: 1.3\n",
      "average arrived agents : 4.0 \n",
      "Time taken for test set:  3.20\n",
      "Saving results in ./results/warehouse_4agents/eph_65000.pkl\n",
      "test set: warehouse 8 agents\n"
     ]
    },
    {
     "name": "stderr",
     "output_type": "stream",
     "text": [
      "100%|██████████| 20/20 [00:05<00:00,  3.49it/s]"
     ]
    },
    {
     "name": "stdout",
     "output_type": "stream",
     "text": [
      "success rate: 95.00%\n",
      "average step: 167.55\n",
      "communication times: 23.2\n",
      "average arrived agents : 7.9 \n",
      "Time taken for test set:  5.74\n",
      "Saving results in ./results/warehouse_8agents/eph_65000.pkl\n"
     ]
    },
    {
     "name": "stderr",
     "output_type": "stream",
     "text": [
      "\n"
     ]
    }
   ],
   "source": [
    "results = test_model('65000', config=config)"
   ]
  },
  {
   "cell_type": "markdown",
   "metadata": {},
   "source": [
    "## Create visualization"
   ]
  },
  {
   "cell_type": "markdown",
   "metadata": {},
   "source": [
    "First, we need to collect the results. Let's choose the last case"
   ]
  },
  {
   "cell_type": "code",
   "execution_count": 6,
   "metadata": {},
   "outputs": [
    {
     "name": "stdout",
     "output_type": "stream",
     "text": [
      "dict_keys([['den312d', 4], ['den312d', 8], ['warehouse', 4], ['warehouse', 8]])\n"
     ]
    }
   ],
   "source": [
    "print(results.keys())"
   ]
  },
  {
   "cell_type": "code",
   "execution_count": 7,
   "metadata": {},
   "outputs": [
    {
     "name": "stdout",
     "output_type": "stream",
     "text": [
      "['den312d', 4]\n",
      "Makespan:  89\n"
     ]
    }
   ],
   "source": [
    "IDX = 3 # take one solution\n",
    "\n",
    "key = list(results.keys())[0]\n",
    "print(key)\n",
    "res = results[key]\n",
    "\n",
    "all_map = res[\"map\"][IDX]\n",
    "map_, init_pos, goals = all_map[0], all_map[1], all_map[2]\n",
    "positions = res[\"best_pos\"][IDX] # for ensemble, it is a list of positions\n",
    "print(\"Makespan: \", len(positions))"
   ]
  },
  {
   "cell_type": "markdown",
   "metadata": {},
   "source": [
    "Note: Remember to install ffmpeg!\n",
    "\n",
    "example:\n",
    "```bash\n",
    "conda install -c conda-forge ffmpeg\n",
    "```"
   ]
  },
  {
   "cell_type": "code",
   "execution_count": 8,
   "metadata": {},
   "outputs": [
    {
     "name": "stderr",
     "output_type": "stream",
     "text": [
      "/home/wheitman/mrsd-24s/16-831-irl/project/eph-mapf/env/lib/python3.10/site-packages/tqdm/auto.py:21: TqdmWarning: IProgress not found. Please update jupyter and ipywidgets. See https://ipywidgets.readthedocs.io/en/stable/user_install.html\n",
      "  from .autonotebook import tqdm as notebook_tqdm\n",
      "100%|██████████| 89/89 [00:00<00:00, 709682.62it/s]\n",
      "ffmpeg version 4.4.2-0ubuntu0.22.04.1 Copyright (c) 2000-2021 the FFmpeg developers\n",
      "  built with gcc 11 (Ubuntu 11.2.0-19ubuntu1)\n",
      "  configuration: --prefix=/usr --extra-version=0ubuntu0.22.04.1 --toolchain=hardened --libdir=/usr/lib/x86_64-linux-gnu --incdir=/usr/include/x86_64-linux-gnu --arch=amd64 --enable-gpl --disable-stripping --enable-gnutls --enable-ladspa --enable-libaom --enable-libass --enable-libbluray --enable-libbs2b --enable-libcaca --enable-libcdio --enable-libcodec2 --enable-libdav1d --enable-libflite --enable-libfontconfig --enable-libfreetype --enable-libfribidi --enable-libgme --enable-libgsm --enable-libjack --enable-libmp3lame --enable-libmysofa --enable-libopenjpeg --enable-libopenmpt --enable-libopus --enable-libpulse --enable-librabbitmq --enable-librubberband --enable-libshine --enable-libsnappy --enable-libsoxr --enable-libspeex --enable-libsrt --enable-libssh --enable-libtheora --enable-libtwolame --enable-libvidstab --enable-libvorbis --enable-libvpx --enable-libwebp --enable-libx265 --enable-libxml2 --enable-libxvid --enable-libzimg --enable-libzmq --enable-libzvbi --enable-lv2 --enable-omx --enable-openal --enable-opencl --enable-opengl --enable-sdl2 --enable-pocketsphinx --enable-librsvg --enable-libmfx --enable-libdc1394 --enable-libdrm --enable-libiec61883 --enable-chromaprint --enable-frei0r --enable-libx264 --enable-shared\n",
      "  libavutil      56. 70.100 / 56. 70.100\n",
      "  libavcodec     58.134.100 / 58.134.100\n",
      "  libavformat    58. 76.100 / 58. 76.100\n",
      "  libavdevice    58. 13.100 / 58. 13.100\n",
      "  libavfilter     7.110.100 /  7.110.100\n",
      "  libswscale      5.  9.100 /  5.  9.100\n",
      "  libswresample   3.  9.100 /  3.  9.100\n",
      "  libpostproc    55.  9.100 / 55.  9.100\n",
      "Input #0, image2, from '/tmp/agent_frames/frame_%04d.png':\n",
      "  Duration: 00:00:08.90, start: 0.000000, bitrate: N/A\n",
      "  Stream #0:0: Video: png, rgba(pc), 1200x600 [SAR 3937:3937 DAR 2:1], 10 fps, 10 tbr, 10 tbn, 10 tbc\n",
      "Stream mapping:\n",
      "  Stream #0:0 -> #0:0 (png (native) -> h264 (libx264))\n",
      "Press [q] to stop, [?] for help\n",
      "[libx264 @ 0x5ad026f7db80] using SAR=1/1\n",
      "[libx264 @ 0x5ad026f7db80] using cpu capabilities: MMX2 SSE2Fast SSSE3 SSE4.2 AVX FMA3 BMI2 AVX2 AVX512\n",
      "[libx264 @ 0x5ad026f7db80] profile High, level 3.1, 4:2:0, 8-bit\n",
      "[libx264 @ 0x5ad026f7db80] 264 - core 163 r3060 5db6aa6 - H.264/MPEG-4 AVC codec - Copyleft 2003-2021 - http://www.videolan.org/x264.html - options: cabac=1 ref=3 deblock=1:0:0 analyse=0x3:0x113 me=hex subme=7 psy=1 psy_rd=1.00:0.00 mixed_ref=1 me_range=16 chroma_me=1 trellis=1 8x8dct=1 cqm=0 deadzone=21,11 fast_pskip=1 chroma_qp_offset=-2 threads=12 lookahead_threads=2 sliced_threads=0 nr=0 decimate=1 interlaced=0 bluray_compat=0 constrained_intra=0 bframes=3 b_pyramid=2 b_adapt=1 b_bias=0 direct=1 weightb=1 open_gop=0 weightp=2 keyint=250 keyint_min=10 scenecut=40 intra_refresh=0 rc_lookahead=40 rc=crf mbtree=1 crf=23.0 qcomp=0.60 qpmin=0 qpmax=69 qpstep=4 ip_ratio=1.40 aq=1:1.00\n",
      "Output #0, mp4, to 'test.mp4':\n",
      "  Metadata:\n",
      "    encoder         : Lavf58.76.100\n",
      "  Stream #0:0: Video: h264 (avc1 / 0x31637661), yuv420p(tv, progressive), 1200x600 [SAR 1:1 DAR 2:1], q=2-31, 10 fps, 10240 tbn\n",
      "    Metadata:\n",
      "      encoder         : Lavc58.134.100 libx264\n",
      "    Side data:\n",
      "      cpb: bitrate max/min/avg: 0/0/0 buffer size: 0 vbv_delay: N/A\n",
      "frame=   89 fps=0.0 q=-1.0 Lsize=      56kB time=00:00:08.60 bitrate=  53.4kbits/s speed=23.9x    \n",
      "video:54kB audio:0kB subtitle:0kB other streams:0kB global headers:0kB muxing overhead: 3.463250%\n",
      "[libx264 @ 0x5ad026f7db80] frame I:1     Avg QP:20.04  size: 34015\n",
      "[libx264 @ 0x5ad026f7db80] frame P:26    Avg QP:18.29  size:   427\n",
      "[libx264 @ 0x5ad026f7db80] frame B:62    Avg QP:22.07  size:   156\n",
      "[libx264 @ 0x5ad026f7db80] consecutive B-frames:  5.6%  2.2%  6.7% 85.4%\n",
      "[libx264 @ 0x5ad026f7db80] mb I  I16..4: 14.5% 69.6% 15.9%\n",
      "[libx264 @ 0x5ad026f7db80] mb P  I16..4:  0.3%  0.1%  0.0%  P16..4:  0.7%  0.1%  0.0%  0.0%  0.0%    skip:98.9%\n",
      "[libx264 @ 0x5ad026f7db80] mb B  I16..4:  0.2%  0.1%  0.0%  B16..8:  0.8%  0.1%  0.0%  direct: 0.0%  skip:98.9%  L0:36.9% L1:61.9% BI: 1.2%\n",
      "[libx264 @ 0x5ad026f7db80] 8x8 transform intra:61.6% inter:4.1%\n",
      "[libx264 @ 0x5ad026f7db80] coded y,uvDC,uvAC intra: 16.7% 0.5% 0.5% inter: 0.1% 0.1% 0.1%\n",
      "[libx264 @ 0x5ad026f7db80] i16 v,h,dc,p: 76% 21%  3%  0%\n",
      "[libx264 @ 0x5ad026f7db80] i8 v,h,dc,ddl,ddr,vr,hd,vl,hu: 47%  4% 49%  0%  0%  0%  0%  0%  0%\n",
      "[libx264 @ 0x5ad026f7db80] i4 v,h,dc,ddl,ddr,vr,hd,vl,hu: 59% 36%  3%  0%  0%  1%  0%  0%  0%\n",
      "[libx264 @ 0x5ad026f7db80] i8c dc,h,v,p: 100%  0%  0%  0%\n",
      "[libx264 @ 0x5ad026f7db80] Weighted P-Frames: Y:0.0% UV:0.0%\n",
      "[libx264 @ 0x5ad026f7db80] ref P L0: 74.8%  1.6% 11.5% 12.2%\n",
      "[libx264 @ 0x5ad026f7db80] ref B L0: 74.1% 23.7%  2.2%\n",
      "[libx264 @ 0x5ad026f7db80] ref B L1: 94.4%  5.6%\n",
      "[libx264 @ 0x5ad026f7db80] kb/s:49.26\n"
     ]
    }
   ],
   "source": [
    "from src.utils.video import create_video\n",
    "\n",
    "FILENAME = \"test.mp4\"\n",
    "create_video(map_, init_pos=init_pos, goal_pos=goals, positions=positions, filename=FILENAME)"
   ]
  },
  {
   "cell_type": "code",
   "execution_count": 9,
   "metadata": {},
   "outputs": [
    {
     "data": {
      "text/html": [
       "<video controls  >\n",
       " <source src=\"data:video/mp4;base64,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\" type=\"video/mp4\">\n",
       " Your browser does not support the video tag.\n",
       " </video>"
      ],
      "text/plain": [
       "<IPython.core.display.Video object>"
      ]
     },
     "execution_count": 9,
     "metadata": {},
     "output_type": "execute_result"
    }
   ],
   "source": [
    "from IPython.display import Video\n",
    "\n",
    "Video(FILENAME, embed=True)"
   ]
  }
 ],
 "metadata": {
  "kernelspec": {
   "display_name": "Python 3",
   "language": "python",
   "name": "python3"
  },
  "language_info": {
   "codemirror_mode": {
    "name": "ipython",
    "version": 3
   },
   "file_extension": ".py",
   "mimetype": "text/x-python",
   "name": "python",
   "nbconvert_exporter": "python",
   "pygments_lexer": "ipython3",
   "version": "3.10.12"
  }
 },
 "nbformat": 4,
 "nbformat_minor": 2
}
